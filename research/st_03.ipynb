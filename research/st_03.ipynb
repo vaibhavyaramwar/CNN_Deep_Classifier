{
 "cells": [
  {
   "cell_type": "code",
   "execution_count": 1,
   "metadata": {},
   "outputs": [
    {
     "name": "stdout",
     "output_type": "stream",
     "text": [
      "e:\\Preparation\\iNeuron\\Full_Stack_Data_Science\\Deep_Learning\\CNN\\Project\\CNN_Deep_Classifier\\research\n",
      "e:\\Preparation\\iNeuron\\Full_Stack_Data_Science\\Deep_Learning\\CNN\\Project\\CNN_Deep_Classifier\n"
     ]
    }
   ],
   "source": [
    "import os\n",
    "print(os.getcwd())\n",
    "os.chdir(\"../\")\n",
    "print(os.getcwd())\n",
    "import tensorflow as tf"
   ]
  },
  {
   "cell_type": "code",
   "execution_count": 2,
   "metadata": {},
   "outputs": [],
   "source": [
    "from dataclasses import dataclass\n",
    "from pathlib import Path\n",
    "\n",
    "@dataclass(frozen=True)\n",
    "class PrepareCallBackConfig:\n",
    "    root_dir: Path\n",
    "    tensorboard_root_log_dir: Path\n",
    "    checkpoint_model_file_path:  Path"
   ]
  },
  {
   "cell_type": "code",
   "execution_count": 3,
   "metadata": {},
   "outputs": [],
   "source": [
    "from deepClassifier.constants import *\n",
    "from deepClassifier.utility import read_yaml_file,create_directories"
   ]
  },
  {
   "cell_type": "code",
   "execution_count": 13,
   "metadata": {},
   "outputs": [],
   "source": [
    "class ConfigManager:\n",
    "\n",
    "    def __init__(\n",
    "        self,\n",
    "        config_file_path  = CONFIG_FILE_PATH,\n",
    "        param_file_path  = PARAMS_FILE_PATH\n",
    "        ):\n",
    "            self.config = read_yaml_file(config_file_path)\n",
    "            self.param = read_yaml_file(param_file_path)\n",
    "            create_directories([self.config.artifact_root])\n",
    "    \n",
    "    def get_prepare_callback_config(self) -> PrepareCallBackConfig:\n",
    "        try:\n",
    "            config = self.config.prepare_callbacks\n",
    "            param_config = self.param\n",
    "            checkpoint_model_dir = os.path.dirname(config.checkpoint_model_file_path)\n",
    "\n",
    "            create_directories([Path(config.tensorboard_root_log_dir),Path(checkpoint_model_dir)])\n",
    "\n",
    "\n",
    "            prepare_call_backConfig =   PrepareCallBackConfig(\n",
    "                                            root_dir = Path(config.root_dir),\n",
    "                                            tensorboard_root_log_dir = Path(config.tensorboard_root_log_dir),\n",
    "                                            checkpoint_model_file_path = Path(config.checkpoint_model_file_path)\n",
    "                                        )\n",
    "\n",
    "            return prepare_call_backConfig\n",
    "        except Exception as e:\n",
    "            raise e\n"
   ]
  },
  {
   "cell_type": "code",
   "execution_count": 14,
   "metadata": {},
   "outputs": [],
   "source": [
    "import time\n",
    "\n",
    "\n",
    "class PrepareCallBack:\n",
    "\n",
    "    def __init__(self,config:PrepareCallBackConfig):\n",
    "        self.config = config\n",
    "\n",
    "    @property\n",
    "    def _create_tb_callbacks(self):\n",
    "        timeStamp = time.strftime(\"%Y-%m-%d-%H-%M-%S\")\n",
    "        tb_running_log_dir = os.path.join(self.config.tensorboard_root_log_dir,f\"tb_logs_at{timeStamp}\")\n",
    "        return tf.keras.callbacks.TensorBoard(log_dir=tb_running_log_dir)\n",
    "    \n",
    "    @property\n",
    "    def _create_ckpt_callbacks(self):\n",
    "        return tf.keras.callbacks.ModelCheckpoint(\n",
    "            filepath = self.config.checkpoint_model_file_path,\n",
    "            save_best_only = True\n",
    "        )\n",
    "\n",
    "    def get_tb_ckpt_callbacks(self):\n",
    "        return [\n",
    "            self._create_tb_callbacks,\n",
    "            self._create_ckpt_callbacks\n",
    "        ]\n",
    "\n",
    "    "
   ]
  },
  {
   "cell_type": "code",
   "execution_count": 15,
   "metadata": {},
   "outputs": [],
   "source": [
    "try:\n",
    "    config = ConfigManager()\n",
    "    prepare_callback_config = config.get_prepare_callback_config()\n",
    "    prepareCallBack = PrepareCallBack(prepare_callback_config)\n",
    "    prepareCallBack.get_tb_ckpt_callbacks()\n",
    "except Exception as e:\n",
    "    raise e"
   ]
  },
  {
   "cell_type": "code",
   "execution_count": 8,
   "metadata": {},
   "outputs": [
    {
     "data": {
      "text/plain": [
       "'2022-09-26-17-03-00'"
      ]
     },
     "execution_count": 8,
     "metadata": {},
     "output_type": "execute_result"
    }
   ],
   "source": [
    "import time\n",
    "time.strftime(\"%Y-%m-%d-%H-%M-%S\")"
   ]
  },
  {
   "cell_type": "code",
   "execution_count": null,
   "metadata": {},
   "outputs": [],
   "source": []
  }
 ],
 "metadata": {
  "kernelspec": {
   "display_name": "Python 3.8.13 (conda)",
   "language": "python",
   "name": "python3"
  },
  "language_info": {
   "codemirror_mode": {
    "name": "ipython",
    "version": 3
   },
   "file_extension": ".py",
   "mimetype": "text/x-python",
   "name": "python",
   "nbconvert_exporter": "python",
   "pygments_lexer": "ipython3",
   "version": "3.8.13"
  },
  "orig_nbformat": 4,
  "vscode": {
   "interpreter": {
    "hash": "bf568003487fca6f3453ca676931a836df9bbb728b739dc9ea7edf9b5602f60e"
   }
  }
 },
 "nbformat": 4,
 "nbformat_minor": 2
}
