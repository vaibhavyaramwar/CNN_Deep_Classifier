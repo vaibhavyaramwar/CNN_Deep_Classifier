{
 "cells": [
  {
   "cell_type": "code",
   "execution_count": 76,
   "metadata": {},
   "outputs": [
    {
     "name": "stdout",
     "output_type": "stream",
     "text": [
      "e:\\Preparation\\iNeuron\\Full_Stack_Data_Science\\Deep_Learning\\CNN\n",
      "e:\\Preparation\\iNeuron\\Full_Stack_Data_Science\\Deep_Learning\n"
     ]
    }
   ],
   "source": [
    "from collections import namedtuple\n",
    "import os"
   ]
  },
  {
   "cell_type": "code",
   "execution_count": 71,
   "metadata": {},
   "outputs": [],
   "source": [
    "DataIngestionConfig = namedtuple(\"DataIngestionConfig\",[\n",
    "    \"root_dir\",\n",
    "    \"source_url\",\n",
    "    \"local_data_file\",\n",
    "    \"unzip_dir\"])"
   ]
  },
  {
   "cell_type": "code",
   "execution_count": 72,
   "metadata": {},
   "outputs": [],
   "source": [
    "from dataclasses import dataclass\n",
    "from pathlib import Path\n",
    "import pathlib\n",
    "\n",
    "@dataclass(frozen=True)\n",
    "class DataIngestionConfig:\n",
    "    root_dir: pathlib\n",
    "    source_url: str\n",
    "    local_data_file: pathlib\n",
    "    unzip_dir: pathlib\n"
   ]
  },
  {
   "cell_type": "code",
   "execution_count": 67,
   "metadata": {},
   "outputs": [],
   "source": [
    "from deepClassifier.constants import *\n",
    "from deepClassifier.utility import read_yaml_file,create_directories\n",
    "import os\n",
    "from urllib import reques"
   ]
  },
  {
   "cell_type": "code",
   "execution_count": null,
   "metadata": {},
   "outputs": [],
   "source": [
    "t\n",
    "from zipfile import ZipFile"
   ]
  },
  {
   "cell_type": "code",
   "execution_count": 68,
   "metadata": {},
   "outputs": [],
   "source": [
    "from asyncio.log import logger\n",
    "import logging\n",
    "\n",
    "\n",
    "class ConfigManager:\n",
    "\n",
    "    def __init__(\n",
    "        self,\n",
    "        config_file_path  = CONFIG_FILE_PATH,\n",
    "        param_file_path  = PARAMS_FILE_PATH\n",
    "        ):\n",
    "            self.config = read_yaml_file(config_file_path)\n",
    "            self.param = read_yaml_file(param_file_path)\n",
    "            create_directories([self.config.artifact_root])\n",
    "    \n",
    "    def get_data_ingestion_config(self) -> DataIngestionConfig:\n",
    "        try:\n",
    "            config = self.config.data_ingestion\n",
    "\n",
    "            create_directories([config.root_dir])\n",
    "\n",
    "            data_ingestion_config =   DataIngestionConfig(\n",
    "                root_dir = config.root_dir,\n",
    "                source_url = config.source_url,\n",
    "                local_data_file = config.local_data_file,\n",
    "                unzip_dir = config.unzip_dir\n",
    "            )\n",
    "\n",
    "            return data_ingestion_config\n",
    "        except Exception as e:\n",
    "            raise e\n",
    "\n",
    "\n",
    "\n",
    "class DataIngestion:\n",
    "\n",
    "    def __init__(self,config:DataIngestionConfig):\n",
    "        self.config = config\n",
    "\n",
    "\n",
    "    def download_files(self):\n",
    "        if not os.path.exists(self.config.local_data_file):\n",
    "            fileName, headers = request.urlretrieve(\n",
    "                url=self.config.source_url,\n",
    "                filename=self.config.local_data_file\n",
    "            )\n",
    "\n",
    "    def _get_updated_list_of_files(self,list_of_files):\n",
    "        logger.info(f\"list_of_files : {list_of_files}\")\n",
    "        return [f for f in list_of_files if f.endswith(\".jpg\") and ('Cat' in f or 'Dog' in f)]\n",
    "\n",
    "    def _preprocess(self,zf:ZipFile,f:str,working_dir:str):\n",
    "        target_file_path = os.path.join(working_dir,f)\n",
    "        logging.info(f\"target_file_path  ; {target_file_path }\")\n",
    "\n",
    "        if not os.path.exists(target_file_path):\n",
    "            zf.extract(f,working_dir)\n",
    "\n",
    "        if os.path.getsize(target_file_path) == 0:\n",
    "            os.remove(target_file_path)\n",
    "\n",
    "    def unzip_with_clean(self):\n",
    "        try:\n",
    "            with ZipFile(file=self.config.local_data_file,mode=\"r\") as zf:\n",
    "                logging.info(\"Inside with\")\n",
    "                list_of_files = zf.namelist()\n",
    "                updated_list_of_files = self._get_updated_list_of_files(list_of_files)\n",
    "                logging.info(updated_list_of_files)\n",
    "                for f in updated_list_of_files:\n",
    "                    logging.info(\"inside for loop\")\n",
    "                    self._preprocess(zf,f,self.config.unzip_dir)\n",
    "        except Exception as e:\n",
    "            raise e\n",
    "\n"
   ]
  },
  {
   "cell_type": "code",
   "execution_count": 69,
   "metadata": {},
   "outputs": [],
   "source": [
    "c = ConfigManager(\"E:\\Preparation\\iNeuron\\Full_Stack_Data_Science\\Deep_Learning\\CNN\\Project\\CNN_Deep_Classifier\\configs\\config.yaml\",\n",
    "\"E:\\Preparation\\iNeuron\\Full_Stack_Data_Science\\Deep_Learning\\CNN\\Project\\CNN_Deep_Classifier\\params.yaml\")"
   ]
  },
  {
   "cell_type": "code",
   "execution_count": 70,
   "metadata": {},
   "outputs": [],
   "source": [
    "data_ingestion_config = c.get_data_ingestion_config()\n",
    "data_ingestion = DataIngestion(data_ingestion_config)\n",
    "data_ingestion.download_files()\n",
    "data_ingestion.unzip_with_clean()\n"
   ]
  },
  {
   "cell_type": "code",
   "execution_count": null,
   "metadata": {},
   "outputs": [],
   "source": []
  },
  {
   "cell_type": "code",
   "execution_count": null,
   "metadata": {},
   "outputs": [],
   "source": [
    "data_ingestion.unzip_with_clean()\n"
   ]
  },
  {
   "cell_type": "code",
   "execution_count": null,
   "metadata": {},
   "outputs": [],
   "source": []
  }
 ],
 "metadata": {
  "kernelspec": {
   "display_name": "Python 3.8.13 (conda)",
   "language": "python",
   "name": "python3"
  },
  "language_info": {
   "codemirror_mode": {
    "name": "ipython",
    "version": 3
   },
   "file_extension": ".py",
   "mimetype": "text/x-python",
   "name": "python",
   "nbconvert_exporter": "python",
   "pygments_lexer": "ipython3",
   "version": "3.8.13"
  },
  "orig_nbformat": 4,
  "vscode": {
   "interpreter": {
    "hash": "bf568003487fca6f3453ca676931a836df9bbb728b739dc9ea7edf9b5602f60e"
   }
  }
 },
 "nbformat": 4,
 "nbformat_minor": 2
}
