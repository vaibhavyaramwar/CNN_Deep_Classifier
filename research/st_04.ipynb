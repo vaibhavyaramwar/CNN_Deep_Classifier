{
 "cells": [
  {
   "cell_type": "code",
   "execution_count": 1,
   "metadata": {},
   "outputs": [
    {
     "name": "stdout",
     "output_type": "stream",
     "text": [
      "e:\\Preparation\\iNeuron\\Full_Stack_Data_Science\\Deep_Learning\\CNN\\Project\\CNN_Deep_Classifier\\research\n",
      "e:\\Preparation\\iNeuron\\Full_Stack_Data_Science\\Deep_Learning\\CNN\\Project\\CNN_Deep_Classifier\n"
     ]
    }
   ],
   "source": [
    "import os\n",
    "print(os.getcwd())\n",
    "os.chdir(\"../\")\n",
    "print(os.getcwd())\n",
    "import tensorflow as tf"
   ]
  },
  {
   "cell_type": "code",
   "execution_count": 2,
   "metadata": {},
   "outputs": [],
   "source": [
    "from dataclasses import dataclass\n",
    "from pathlib import Path\n",
    "\n",
    "@dataclass(frozen=True)\n",
    "class PrepareCallBackConfig:\n",
    "    root_dir: Path\n",
    "    tensorboard_root_log_dir: Path\n",
    "    checkpoint_model_file_path:  Path"
   ]
  },
  {
   "cell_type": "code",
   "execution_count": 3,
   "metadata": {},
   "outputs": [],
   "source": [
    "from dataclasses import dataclass\n",
    "from pathlib import Path\n",
    "\n",
    "@dataclass(frozen=True)\n",
    "class TrainingConfig:\n",
    "      root_dir: Path\n",
    "      trained_model_path: Path\n",
    "      updated_base_model_path: Path\n",
    "      training_data_path: Path\n",
    "      params_epoch : int\n",
    "      param_batch_size: int\n",
    "      params_is_augmentation : bool\n",
    "      params_image_size: list\n",
    "      \n"
   ]
  },
  {
   "cell_type": "code",
   "execution_count": 4,
   "metadata": {},
   "outputs": [],
   "source": [
    "from deepClassifier.constants import *\n",
    "from deepClassifier.utility import read_yaml_file,create_directories"
   ]
  },
  {
   "cell_type": "code",
   "execution_count": 5,
   "metadata": {},
   "outputs": [],
   "source": [
    "class ConfigManager:\n",
    "\n",
    "    def __init__(\n",
    "        self,\n",
    "        config_file_path  = CONFIG_FILE_PATH,\n",
    "        param_file_path  = PARAMS_FILE_PATH\n",
    "        ):\n",
    "            self.config = read_yaml_file(config_file_path)\n",
    "            self.param = read_yaml_file(param_file_path)\n",
    "            create_directories([self.config.artifact_root])\n",
    "    \n",
    "    def get_prepare_callback_config(self) -> PrepareCallBackConfig:\n",
    "        try:\n",
    "            config = self.config.prepare_callbacks\n",
    "            param_config = self.param\n",
    "            checkpoint_model_dir = os.path.dirname(config.checkpoint_model_file_path)\n",
    "            create_directories([Path(config.tensorboard_root_log_dir),Path(checkpoint_model_dir)])\n",
    "            prepare_call_backConfig =   PrepareCallBackConfig(\n",
    "                                            root_dir = Path(config.root_dir),\n",
    "                                            tensorboard_root_log_dir = Path(config.tensorboard_root_log_dir),\n",
    "                                            checkpoint_model_file_path = Path(config.checkpoint_model_file_path)\n",
    "                                        )\n",
    "            return prepare_call_backConfig\n",
    "        except Exception as e:\n",
    "            raise e\n",
    "\n",
    "    def get_training_config(self) -> TrainingConfig:\n",
    "        try:\n",
    "            config = self.config.training\n",
    "            create_directories([Path(config.root_dir)])\n",
    "\n",
    "            trainingConfig = TrainingConfig(\n",
    "                root_dir = Path(config.root_dir),\n",
    "                trained_model_path = Path(config.trained_model_path),\n",
    "                updated_base_model_path = Path(self.config.prepare_base_model.updated_base_model_path),\n",
    "                training_data_path = Path(os.path.join(self.config.data_ingestion.unzip_dir,\"PetImages\")),\n",
    "                params_epoch = self.param.EPOCHS,\n",
    "                param_batch_size = self.param.BATCH_SIZE,\n",
    "                params_is_augmentation = self.param.AUGUMENTATION,\n",
    "                params_image_size = self.param.IMAGE_SIZE\n",
    "            )\n",
    "\n",
    "            return trainingConfig\n",
    "        except Exception as e:\n",
    "            raise e\n",
    "    \n"
   ]
  },
  {
   "cell_type": "code",
   "execution_count": 6,
   "metadata": {},
   "outputs": [],
   "source": [
    "import time\n",
    "\n",
    "\n",
    "class PrepareCallBack:\n",
    "\n",
    "    def __init__(self,config:PrepareCallBackConfig):\n",
    "        self.config = config\n",
    "\n",
    "    @property\n",
    "    def _create_tb_callbacks(self):\n",
    "        timeStamp = time.strftime(\"%Y-%m-%d-%H-%M-%S\")\n",
    "        tb_running_log_dir = os.path.join(self.config.tensorboard_root_log_dir,f\"tb_logs_at{timeStamp}\")\n",
    "        return tf.keras.callbacks.TensorBoard(log_dir=tb_running_log_dir)\n",
    "    \n",
    "    @property\n",
    "    def _create_ckpt_callbacks(self):\n",
    "        return tf.keras.callbacks.ModelCheckpoint(\n",
    "            filepath = self.config.checkpoint_model_file_path,\n",
    "            save_best_only = True\n",
    "        )\n",
    "\n",
    "    def get_tb_ckpt_callbacks(self):\n",
    "        return [\n",
    "            self._create_tb_callbacks,\n",
    "            self._create_ckpt_callbacks\n",
    "        ]\n",
    "\n",
    "    "
   ]
  },
  {
   "cell_type": "code",
   "execution_count": 7,
   "metadata": {},
   "outputs": [],
   "source": [
    "from configparser import Interpolation\n",
    "from random import shuffle\n",
    "import time\n",
    "\n",
    "\n",
    "class Training:\n",
    "\n",
    "    def __init__(self,config:TrainingConfig):\n",
    "        self.config = config\n",
    "\n",
    "    def get_base_model(self):\n",
    "        self.model = tf.keras.models.load_model(\n",
    "            self.config.updated_base_model_path\n",
    "        )\n",
    "\n",
    "    def train_valid_generator(self):\n",
    "\n",
    "        datagenrator_kwargs = dict(\n",
    "            rescale = 1./255,\n",
    "            validation_split = 0.20\n",
    "        )\n",
    "\n",
    "        dataflow_kwargs = dict(\n",
    "\n",
    "            target_size = self.config.params_image_size[:-1],\n",
    "            batch_size = self.config.param_batch_size,\n",
    "            interpolation = \"bilinear\"\n",
    "        )\n",
    "\n",
    "        valid_data_generator = tf.keras.preprocessing.image.ImageDataGenerator(\n",
    "            **datagenrator_kwargs\n",
    "        )\n",
    "\n",
    "        self.valid_generator = valid_data_generator.flow_from_directory(\n",
    "            directory = self.config.training_data_path,\n",
    "            subset = \"validation\",\n",
    "            shuffle = False,\n",
    "            **dataflow_kwargs\n",
    "        )\n",
    "\n",
    "        if self.config.params_is_augmentation:\n",
    "            training_data_generator = tf.keras.preprocessing.image.ImageDataGenerator(\n",
    "                rotation_range = 40,\n",
    "                horizontal_flip = True,\n",
    "                width_shift_range = 0.2,\n",
    "                height_shift_range = 0.2,\n",
    "                shear_range = 0.2, # slitly tilt image\n",
    "                zoom_range =  0.2,\n",
    "                **datagenrator_kwargs\n",
    "            )\n",
    "        else:\n",
    "            training_data_generator = valid_data_generator\n",
    "\n",
    "        self.train_generator = valid_data_generator.flow_from_directory(\n",
    "            directory = self.config.training_data_path,\n",
    "            subset = \"training\",\n",
    "            shuffle = True,\n",
    "            **dataflow_kwargs\n",
    "        )\n",
    "\n",
    "\n",
    "    @staticmethod\n",
    "    def save_model(path: Path, model: tf.keras.Model):\n",
    "        model.save(path)\n",
    "\n",
    "\n",
    "    def train(self, callback_list: list):\n",
    "        self.steps_per_epoch = self.train_generator.samples // self.train_generator.batch_size\n",
    "        self.validation_steps = self.valid_generator.samples // self.valid_generator.batch_size\n",
    "\n",
    "        self.model.fit(\n",
    "            self.train_generator,\n",
    "            epochs=self.config.params_epoch, \n",
    "            steps_per_epoch=self.steps_per_epoch,\n",
    "            validation_steps=self.validation_steps,\n",
    "            validation_data=self.valid_generator,\n",
    "            callbacks=callback_list\n",
    "        )\n",
    "\n",
    "        self.save_model(\n",
    "            path=self.config.trained_model_path,\n",
    "            model=self.model\n",
    "        )\n",
    "\n",
    "\n",
    "    "
   ]
  },
  {
   "cell_type": "code",
   "execution_count": 8,
   "metadata": {},
   "outputs": [
    {
     "name": "stdout",
     "output_type": "stream",
     "text": [
      "Found 4998 images belonging to 2 classes.\n",
      "Found 20000 images belonging to 2 classes.\n",
      "436/625 [===================>..........] - ETA: 29:49 - loss: 4.8666 - accuracy: 0.7330"
     ]
    },
    {
     "name": "stderr",
     "output_type": "stream",
     "text": [
      "e:\\Preparation\\iNeuron\\Full_Stack_Data_Science\\Deep_Learning\\CNN\\Project\\CNN_Deep_Classifier\\venv\\lib\\site-packages\\PIL\\TiffImagePlugin.py:845: UserWarning: Truncated File Read\n",
      "  warnings.warn(str(msg))\n"
     ]
    },
    {
     "name": "stdout",
     "output_type": "stream",
     "text": [
      "625/625 [==============================] - 7645s 12s/step - loss: 3.9196 - accuracy: 0.7648 - val_loss: 1.6520 - val_accuracy: 0.8141\n"
     ]
    }
   ],
   "source": [
    "try:\n",
    "    config = ConfigManager()\n",
    "    prepare_callbacks_config = config.get_prepare_callback_config()\n",
    "    prepare_callbacks = PrepareCallBack(config=prepare_callbacks_config)\n",
    "    callback_list = prepare_callbacks.get_tb_ckpt_callbacks()\n",
    "    \n",
    "    training_config = config.get_training_config()\n",
    "    training = Training(config=training_config)\n",
    "    training.get_base_model()\n",
    "    training.train_valid_generator()\n",
    "    training.train(\n",
    "        callback_list=callback_list\n",
    "    )\n",
    "    \n",
    "except Exception as e:\n",
    "    raise e"
   ]
  },
  {
   "cell_type": "code",
   "execution_count": null,
   "metadata": {},
   "outputs": [],
   "source": []
  }
 ],
 "metadata": {
  "kernelspec": {
   "display_name": "Python 3.8.13 (conda)",
   "language": "python",
   "name": "python3"
  },
  "language_info": {
   "codemirror_mode": {
    "name": "ipython",
    "version": 3
   },
   "file_extension": ".py",
   "mimetype": "text/x-python",
   "name": "python",
   "nbconvert_exporter": "python",
   "pygments_lexer": "ipython3",
   "version": "3.7.12"
  },
  "orig_nbformat": 4,
  "vscode": {
   "interpreter": {
    "hash": "bf568003487fca6f3453ca676931a836df9bbb728b739dc9ea7edf9b5602f60e"
   }
  }
 },
 "nbformat": 4,
 "nbformat_minor": 2
}
